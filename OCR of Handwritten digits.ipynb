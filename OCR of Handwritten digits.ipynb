{
 "cells": [
  {
   "cell_type": "code",
   "execution_count": 3,
   "id": "3c076a70",
   "metadata": {},
   "outputs": [],
   "source": [
    "import numpy as np\n",
    "import cv2"
   ]
  },
  {
   "cell_type": "code",
   "execution_count": 4,
   "id": "f2fddd6c",
   "metadata": {},
   "outputs": [],
   "source": [
    "# Reading the image\n",
    "image = cv2.imread(\"digits.png\")"
   ]
  },
  {
   "cell_type": "code",
   "execution_count": 5,
   "id": "4e344b03",
   "metadata": {},
   "outputs": [],
   "source": [
    "# Grey Scale Conversion\n",
    "gray_img = cv2.cvtColor(image, cv2.COLOR_BGR2GRAY)"
   ]
  },
  {
   "cell_type": "code",
   "execution_count": 6,
   "id": "f2ad9209",
   "metadata": {},
   "outputs": [],
   "source": [
    "# Dividing the image into 500 samll dimensions of size 20*20\n",
    "divisions = list(np.hsplit(i,100) for i in np.vsplit(gray_img, 50))"
   ]
  },
  {
   "cell_type": "code",
   "execution_count": 7,
   "id": "58cfc993",
   "metadata": {},
   "outputs": [],
   "source": [
    "# Converting into Numpy array of size (50, 100,20,20)\n",
    "NP_array = np.array(divisions)"
   ]
  },
  {
   "cell_type": "code",
   "execution_count": 9,
   "id": "b9753816",
   "metadata": {},
   "outputs": [],
   "source": [
    "# Preparing train_data and test_data.Size will be (2500, 20*20)\n",
    "train_data = NP_array[:,:50].reshape(-1,400).astype(np.float32)"
   ]
  },
  {
   "cell_type": "code",
   "execution_count": 10,
   "id": "0be98d18",
   "metadata": {},
   "outputs": [],
   "source": [
    "# Size will be (2500, 20*20)\n",
    "test_data = NP_array[:,50:100].reshape(-1,400).astype(np.float32)"
   ]
  },
  {
   "cell_type": "code",
   "execution_count": 11,
   "id": "59326084",
   "metadata": {},
   "outputs": [],
   "source": [
    "# Creating 10 different labels for each type of digit\n",
    "k = np.arange(10)\n",
    "train_labels = np.repeat(k,250)[:,np.newaxis]\n",
    "test_labels = np.repeat(k,250)[:,np.newaxis]\n"
   ]
  },
  {
   "cell_type": "code",
   "execution_count": 12,
   "id": "df56b25d",
   "metadata": {},
   "outputs": [],
   "source": [
    "# Initiate KNN classifier\n",
    "knn = cv2.ml.KNearest_create()"
   ]
  },
  {
   "cell_type": "code",
   "execution_count": 13,
   "id": "f0fd6b9e",
   "metadata": {},
   "outputs": [
    {
     "data": {
      "text/plain": [
       "True"
      ]
     },
     "execution_count": 13,
     "metadata": {},
     "output_type": "execute_result"
    }
   ],
   "source": [
    "#Training of data\n",
    "knn.train(train_data,cv2.ml.ROW_SAMPLE,train_labels)"
   ]
  },
  {
   "cell_type": "code",
   "execution_count": 14,
   "id": "626940d6",
   "metadata": {},
   "outputs": [],
   "source": [
    "ret, output, neighbours, distance = knn.findNearest(test_data, k=3)"
   ]
  },
  {
   "cell_type": "code",
   "execution_count": 15,
   "id": "2ca92728",
   "metadata": {},
   "outputs": [],
   "source": [
    "matched = output == test_labels\n",
    "correct_OP = np.count_nonzero(matched)"
   ]
  },
  {
   "cell_type": "code",
   "execution_count": 16,
   "id": "2936b48c",
   "metadata": {},
   "outputs": [],
   "source": [
    "accuracy = (correct_OP*100.0)/(output.size)"
   ]
  },
  {
   "cell_type": "code",
   "execution_count": 17,
   "id": "4690aaf3",
   "metadata": {},
   "outputs": [
    {
     "name": "stdout",
     "output_type": "stream",
     "text": [
      "91.64\n"
     ]
    }
   ],
   "source": [
    "print(accuracy)"
   ]
  },
  {
   "cell_type": "code",
   "execution_count": null,
   "id": "37529a1a",
   "metadata": {},
   "outputs": [],
   "source": []
  }
 ],
 "metadata": {
  "kernelspec": {
   "display_name": "Python 3 (ipykernel)",
   "language": "python",
   "name": "python3"
  },
  "language_info": {
   "codemirror_mode": {
    "name": "ipython",
    "version": 3
   },
   "file_extension": ".py",
   "mimetype": "text/x-python",
   "name": "python",
   "nbconvert_exporter": "python",
   "pygments_lexer": "ipython3",
   "version": "3.11.5"
  }
 },
 "nbformat": 4,
 "nbformat_minor": 5
}
