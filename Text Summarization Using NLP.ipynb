{
 "cells": [
  {
   "cell_type": "code",
   "execution_count": 1,
   "id": "a1a79bbb",
   "metadata": {},
   "outputs": [],
   "source": [
    " text = \"\"\"\n",
    " Maria Sharapova has basically no friends as tennis players on the WTA Tour. The Russian player has no problems in openly speaking about it and in a recent interview she said: 'I don't really hide any feelings too much. \n",
    " I think everyone knows this is my job here. When I'm on the courts or when I'm on the court playing, I'm a competitor and I want to beat every single person whether they're in the locker room or across the net.\n",
    " So I'm not the one to strike up a conversation about the weather and know that in the next few minutes I have to go and try to win a tennis match. \n",
    " I'm a pretty competitive girl. I say my hellos, but I'm not sending any players flowers as well. Uhm, I'm not really friendly or close to many players.\n",
    " I have not a lot of friends away from the courts.' When she said she is not really close to a lot of players, is that something strategic that she is doing? Is it different on the men's tour than the women's tour? 'No, not at all.\n",
    " I think just because you're in the same sport doesn't mean that you have to be friends with everyone just because you're categorized, you're a tennis player, so you're going to get along with tennis players. \n",
    " I think every person has different interests. I have friends that have completely different jobs and interests, and I've met them in very different parts of my life.\n",
    " I think everyone just thinks because we're tennis players we should be the greatest of friends. But ultimately tennis is just a very small part of what we do. \n",
    " There are so many other things that we're interested in, that we do.'\n",
    " \"\"\"\n",
    "     "
   ]
  },
  {
   "cell_type": "code",
   "execution_count": 2,
   "id": "88db3708",
   "metadata": {},
   "outputs": [],
   "source": [
    "import spacy\n",
    "from spacy.lang.en.stop_words import STOP_WORDS"
   ]
  },
  {
   "cell_type": "code",
   "execution_count": 3,
   "id": "f73fc9fd",
   "metadata": {},
   "outputs": [],
   "source": [
    "from string import punctuation"
   ]
  },
  {
   "cell_type": "code",
   "execution_count": 4,
   "id": "c43d7993",
   "metadata": {},
   "outputs": [],
   "source": [
    "\n",
    "stopwords = list(STOP_WORDS)"
   ]
  },
  {
   "cell_type": "code",
   "execution_count": 5,
   "id": "f06c8cf9",
   "metadata": {},
   "outputs": [],
   "source": [
    "nlp = spacy.load('en_core_web_sm')"
   ]
  },
  {
   "cell_type": "code",
   "execution_count": 6,
   "id": "4bae8873",
   "metadata": {},
   "outputs": [],
   "source": [
    "\n",
    "doc = nlp(text)\n",
    "     "
   ]
  },
  {
   "cell_type": "code",
   "execution_count": 7,
   "id": "26442ebe",
   "metadata": {},
   "outputs": [
    {
     "name": "stdout",
     "output_type": "stream",
     "text": [
      "['\\n', 'Maria', 'Sharapova', 'has', 'basically', 'no', 'friends', 'as', 'tennis', 'players', 'on', 'the', 'WTA', 'Tour', '.', 'The', 'Russian', 'player', 'has', 'no', 'problems', 'in', 'openly', 'speaking', 'about', 'it', 'and', 'in', 'a', 'recent', 'interview', 'she', 'said', ':', \"'\", 'I', 'do', \"n't\", 'really', 'hide', 'any', 'feelings', 'too', 'much', '.', '\\n', 'I', 'think', 'everyone', 'knows', 'this', 'is', 'my', 'job', 'here', '.', 'When', 'I', \"'m\", 'on', 'the', 'courts', 'or', 'when', 'I', \"'m\", 'on', 'the', 'court', 'playing', ',', 'I', \"'m\", 'a', 'competitor', 'and', 'I', 'want', 'to', 'beat', 'every', 'single', 'person', 'whether', 'they', \"'re\", 'in', 'the', 'locker', 'room', 'or', 'across', 'the', 'net', '.', '\\n', 'So', 'I', \"'m\", 'not', 'the', 'one', 'to', 'strike', 'up', 'a', 'conversation', 'about', 'the', 'weather', 'and', 'know', 'that', 'in', 'the', 'next', 'few', 'minutes', 'I', 'have', 'to', 'go', 'and', 'try', 'to', 'win', 'a', 'tennis', 'match', '.', '\\n', 'I', \"'m\", 'a', 'pretty', 'competitive', 'girl', '.', 'I', 'say', 'my', 'hellos', ',', 'but', 'I', \"'m\", 'not', 'sending', 'any', 'players', 'flowers', 'as', 'well', '.', 'Uhm', ',', 'I', \"'m\", 'not', 'really', 'friendly', 'or', 'close', 'to', 'many', 'players', '.', '\\n', 'I', 'have', 'not', 'a', 'lot', 'of', 'friends', 'away', 'from', 'the', 'courts', '.', \"'\", 'When', 'she', 'said', 'she', 'is', 'not', 'really', 'close', 'to', 'a', 'lot', 'of', 'players', ',', 'is', 'that', 'something', 'strategic', 'that', 'she', 'is', 'doing', '?', 'Is', 'it', 'different', 'on', 'the', 'men', \"'s\", 'tour', 'than', 'the', 'women', \"'s\", 'tour', '?', \"'\", 'No', ',', 'not', 'at', 'all', '.', '\\n', 'I', 'think', 'just', 'because', 'you', \"'re\", 'in', 'the', 'same', 'sport', 'does', \"n't\", 'mean', 'that', 'you', 'have', 'to', 'be', 'friends', 'with', 'everyone', 'just', 'because', 'you', \"'re\", 'categorized', ',', 'you', \"'re\", 'a', 'tennis', 'player', ',', 'so', 'you', \"'re\", 'going', 'to', 'get', 'along', 'with', 'tennis', 'players', '.', '\\n', 'I', 'think', 'every', 'person', 'has', 'different', 'interests', '.', 'I', 'have', 'friends', 'that', 'have', 'completely', 'different', 'jobs', 'and', 'interests', ',', 'and', 'I', \"'ve\", 'met', 'them', 'in', 'very', 'different', 'parts', 'of', 'my', 'life', '.', '\\n', 'I', 'think', 'everyone', 'just', 'thinks', 'because', 'we', \"'re\", 'tennis', 'players', 'we', 'should', 'be', 'the', 'greatest', 'of', 'friends', '.', 'But', 'ultimately', 'tennis', 'is', 'just', 'a', 'very', 'small', 'part', 'of', 'what', 'we', 'do', '.', '\\n', 'There', 'are', 'so', 'many', 'other', 'things', 'that', 'we', \"'re\", 'interested', 'in', ',', 'that', 'we', 'do', '.', \"'\", '\\n']\n"
     ]
    }
   ],
   "source": [
    "\n",
    "tokens = [token.text for token in doc]\n",
    "print(tokens)\n"
   ]
  },
  {
   "cell_type": "code",
   "execution_count": 8,
   "id": "d880a7f6",
   "metadata": {},
   "outputs": [
    {
     "data": {
      "text/plain": [
       "'!\"#$%&\\'()*+,-./:;<=>?@[\\\\]^_`{|}~\\n'"
      ]
     },
     "execution_count": 8,
     "metadata": {},
     "output_type": "execute_result"
    }
   ],
   "source": [
    "\n",
    "punctuation = punctuation + '\\n'\n",
    "punctuation"
   ]
  },
  {
   "cell_type": "code",
   "execution_count": 10,
   "id": "bf999b43",
   "metadata": {},
   "outputs": [],
   "source": [
    "word_frequencies = {}\n",
    "for word in doc:\n",
    "    if word.text.lower() not in stopwords:\n",
    "        if word.text.lower() not in punctuation:\n",
    "            if word.text not in word_frequencies.keys():\n",
    "                word_frequencies[word.text] = 1\n",
    "            else:\n",
    "                word_frequencies[word.text] += 1\n",
    "     "
   ]
  },
  {
   "cell_type": "code",
   "execution_count": 11,
   "id": "5fbad134",
   "metadata": {},
   "outputs": [
    {
     "name": "stdout",
     "output_type": "stream",
     "text": [
      "{'Maria': 1, 'Sharapova': 1, 'basically': 1, 'friends': 5, 'tennis': 6, 'players': 6, 'WTA': 1, 'Tour': 1, 'Russian': 1, 'player': 2, 'problems': 1, 'openly': 1, 'speaking': 1, 'recent': 1, 'interview': 1, 'said': 2, 'hide': 1, 'feelings': 1, 'think': 4, 'knows': 1, 'job': 1, 'courts': 2, 'court': 1, 'playing': 1, 'competitor': 1, 'want': 1, 'beat': 1, 'single': 1, 'person': 2, 'locker': 1, 'room': 1, 'net': 1, 'strike': 1, 'conversation': 1, 'weather': 1, 'know': 1, 'minutes': 1, 'try': 1, 'win': 1, 'match': 1, 'pretty': 1, 'competitive': 1, 'girl': 1, 'hellos': 1, 'sending': 1, 'flowers': 1, 'Uhm': 1, 'friendly': 1, 'close': 2, 'lot': 2, 'away': 1, 'strategic': 1, 'different': 4, 'men': 1, 'tour': 2, 'women': 1, 'sport': 1, 'mean': 1, 'categorized': 1, 'going': 1, 'interests': 2, 'completely': 1, 'jobs': 1, 'met': 1, 'parts': 1, 'life': 1, 'thinks': 1, 'greatest': 1, 'ultimately': 1, 'small': 1, 'things': 1, 'interested': 1}\n"
     ]
    }
   ],
   "source": [
    "print(word_frequencies)\n"
   ]
  },
  {
   "cell_type": "code",
   "execution_count": 12,
   "id": "8603bbee",
   "metadata": {},
   "outputs": [],
   "source": [
    "max_frequency = max(word_frequencies.values())"
   ]
  },
  {
   "cell_type": "code",
   "execution_count": 13,
   "id": "f611425d",
   "metadata": {},
   "outputs": [
    {
     "data": {
      "text/plain": [
       "6"
      ]
     },
     "execution_count": 13,
     "metadata": {},
     "output_type": "execute_result"
    }
   ],
   "source": [
    "\n",
    "max_frequency"
   ]
  },
  {
   "cell_type": "code",
   "execution_count": 15,
   "id": "f7c267ba",
   "metadata": {},
   "outputs": [],
   "source": [
    "for word in word_frequencies.keys():\n",
    "    word_frequencies[word] = word_frequencies[word]/max_frequency"
   ]
  },
  {
   "cell_type": "code",
   "execution_count": 16,
   "id": "6ed3ed7f",
   "metadata": {},
   "outputs": [
    {
     "name": "stdout",
     "output_type": "stream",
     "text": [
      "{'Maria': 0.027777777777777776, 'Sharapova': 0.027777777777777776, 'basically': 0.027777777777777776, 'friends': 0.1388888888888889, 'tennis': 0.16666666666666666, 'players': 0.16666666666666666, 'WTA': 0.027777777777777776, 'Tour': 0.027777777777777776, 'Russian': 0.027777777777777776, 'player': 0.05555555555555555, 'problems': 0.027777777777777776, 'openly': 0.027777777777777776, 'speaking': 0.027777777777777776, 'recent': 0.027777777777777776, 'interview': 0.027777777777777776, 'said': 0.05555555555555555, 'hide': 0.027777777777777776, 'feelings': 0.027777777777777776, 'think': 0.1111111111111111, 'knows': 0.027777777777777776, 'job': 0.027777777777777776, 'courts': 0.05555555555555555, 'court': 0.027777777777777776, 'playing': 0.027777777777777776, 'competitor': 0.027777777777777776, 'want': 0.027777777777777776, 'beat': 0.027777777777777776, 'single': 0.027777777777777776, 'person': 0.05555555555555555, 'locker': 0.027777777777777776, 'room': 0.027777777777777776, 'net': 0.027777777777777776, 'strike': 0.027777777777777776, 'conversation': 0.027777777777777776, 'weather': 0.027777777777777776, 'know': 0.027777777777777776, 'minutes': 0.027777777777777776, 'try': 0.027777777777777776, 'win': 0.027777777777777776, 'match': 0.027777777777777776, 'pretty': 0.027777777777777776, 'competitive': 0.027777777777777776, 'girl': 0.027777777777777776, 'hellos': 0.027777777777777776, 'sending': 0.027777777777777776, 'flowers': 0.027777777777777776, 'Uhm': 0.027777777777777776, 'friendly': 0.027777777777777776, 'close': 0.05555555555555555, 'lot': 0.05555555555555555, 'away': 0.027777777777777776, 'strategic': 0.027777777777777776, 'different': 0.1111111111111111, 'men': 0.027777777777777776, 'tour': 0.05555555555555555, 'women': 0.027777777777777776, 'sport': 0.027777777777777776, 'mean': 0.027777777777777776, 'categorized': 0.027777777777777776, 'going': 0.027777777777777776, 'interests': 0.05555555555555555, 'completely': 0.027777777777777776, 'jobs': 0.027777777777777776, 'met': 0.027777777777777776, 'parts': 0.027777777777777776, 'life': 0.027777777777777776, 'thinks': 0.027777777777777776, 'greatest': 0.027777777777777776, 'ultimately': 0.027777777777777776, 'small': 0.027777777777777776, 'things': 0.027777777777777776, 'interested': 0.027777777777777776}\n"
     ]
    }
   ],
   "source": [
    "print(word_frequencies)"
   ]
  },
  {
   "cell_type": "code",
   "execution_count": 17,
   "id": "260428ac",
   "metadata": {},
   "outputs": [
    {
     "name": "stdout",
     "output_type": "stream",
     "text": [
      "[\n",
      "Maria Sharapova has basically no friends as tennis players on the WTA Tour., The Russian player has no problems in openly speaking about it and in a recent interview she said: 'I don't really hide any feelings too much. \n",
      ", I think everyone knows this is my job here., When I'm on the courts or when I'm on the court playing, I'm a competitor and I want to beat every single person whether they're in the locker room or across the net.\n",
      ", So I'm not the one to strike up a conversation about the weather and know that in the next few minutes I have to go and try to win a tennis match. \n",
      ", I'm a pretty competitive girl., I say my hellos, but I'm not sending any players flowers as well., Uhm, I'm not really friendly or close to many players.\n",
      ", I have not a lot of friends away from the courts.', When she said she is not really close to a lot of players, is that something strategic that she is doing?, Is it different on the men's tour than the women's tour?, ', No, not at all.\n",
      ", I think just because you're in the same sport doesn't mean that you have to be friends with everyone just because you're categorized, you're a tennis player, so you're going to get along with tennis players. \n",
      ", I think every person has different interests., I have friends that have completely different jobs and interests, and I've met them in very different parts of my life.\n",
      ", I think everyone just thinks because we're tennis players we should be the greatest of friends., But ultimately tennis is just a very small part of what we do. \n",
      ", There are so many other things that we're interested in, that we do.'\n",
      "]\n"
     ]
    }
   ],
   "source": [
    "\n",
    "sentence_tokens = [sent for sent in doc.sents]\n",
    "print(sentence_tokens)"
   ]
  },
  {
   "cell_type": "code",
   "execution_count": 18,
   "id": "041fde94",
   "metadata": {},
   "outputs": [],
   "source": [
    "\n",
    "sentence_scores = {}\n",
    "for sent in sentence_tokens:\n",
    "  for word in sent:\n",
    "    if word.text.lower() in word_frequencies.keys():\n",
    "      if sent not in sentence_scores.keys():\n",
    "        sentence_scores[sent] = word_frequencies[word.text.lower()]\n",
    "      else:\n",
    "        sentence_scores[sent] += word_frequencies[word.text.lower()]"
   ]
  },
  {
   "cell_type": "code",
   "execution_count": 19,
   "id": "f71ceb0d",
   "metadata": {},
   "outputs": [
    {
     "data": {
      "text/plain": [
       "{\n",
       " Maria Sharapova has basically no friends as tennis players on the WTA Tour.: 0.5555555555555556,\n",
       " The Russian player has no problems in openly speaking about it and in a recent interview she said: 'I don't really hide any feelings too much. : 0.3055555555555556,\n",
       " I think everyone knows this is my job here.: 0.16666666666666669,\n",
       " When I'm on the courts or when I'm on the court playing, I'm a competitor and I want to beat every single person whether they're in the locker room or across the net.: 0.36111111111111116,\n",
       " So I'm not the one to strike up a conversation about the weather and know that in the next few minutes I have to go and try to win a tennis match. : 0.38888888888888895,\n",
       " I'm a pretty competitive girl.: 0.08333333333333333,\n",
       " I say my hellos, but I'm not sending any players flowers as well.: 0.25,\n",
       " Uhm, I'm not really friendly or close to many players.: 0.25,\n",
       " I have not a lot of friends away from the courts.': 0.2777777777777778,\n",
       " When she said she is not really close to a lot of players, is that something strategic that she is doing?: 0.3611111111111111,\n",
       " Is it different on the men's tour than the women's tour?: 0.2777777777777778,\n",
       " I think just because you're in the same sport doesn't mean that you have to be friends with everyone just because you're categorized, you're a tennis player, so you're going to get along with tennis players. : 0.9166666666666666,\n",
       " I think every person has different interests.: 0.33333333333333337,\n",
       " I have friends that have completely different jobs and interests, and I've met them in very different parts of my life.: 0.5555555555555556,\n",
       " I think everyone just thinks because we're tennis players we should be the greatest of friends.: 0.6388888888888888,\n",
       " But ultimately tennis is just a very small part of what we do. : 0.2222222222222222,\n",
       " There are so many other things that we're interested in, that we do.': 0.05555555555555555}"
      ]
     },
     "execution_count": 19,
     "metadata": {},
     "output_type": "execute_result"
    }
   ],
   "source": [
    "sentence_scores"
   ]
  },
  {
   "cell_type": "code",
   "execution_count": 20,
   "id": "df036023",
   "metadata": {},
   "outputs": [],
   "source": [
    "from heapq import nlargest"
   ]
  },
  {
   "cell_type": "code",
   "execution_count": 21,
   "id": "b183aa11",
   "metadata": {},
   "outputs": [
    {
     "data": {
      "text/plain": [
       "5"
      ]
     },
     "execution_count": 21,
     "metadata": {},
     "output_type": "execute_result"
    }
   ],
   "source": [
    "\n",
    "select_length = int(len(sentence_tokens)*0.3)\n",
    "select_length"
   ]
  },
  {
   "cell_type": "code",
   "execution_count": 22,
   "id": "9ab4aca1",
   "metadata": {},
   "outputs": [],
   "source": [
    "summary = nlargest(select_length, sentence_scores, key = sentence_scores.get)"
   ]
  },
  {
   "cell_type": "code",
   "execution_count": 23,
   "id": "91cf7095",
   "metadata": {},
   "outputs": [
    {
     "data": {
      "text/plain": [
       "[I think just because you're in the same sport doesn't mean that you have to be friends with everyone just because you're categorized, you're a tennis player, so you're going to get along with tennis players. ,\n",
       " I think everyone just thinks because we're tennis players we should be the greatest of friends.,\n",
       " \n",
       " Maria Sharapova has basically no friends as tennis players on the WTA Tour.,\n",
       " I have friends that have completely different jobs and interests, and I've met them in very different parts of my life.,\n",
       " So I'm not the one to strike up a conversation about the weather and know that in the next few minutes I have to go and try to win a tennis match. ]"
      ]
     },
     "execution_count": 23,
     "metadata": {},
     "output_type": "execute_result"
    }
   ],
   "source": [
    "summary"
   ]
  },
  {
   "cell_type": "code",
   "execution_count": 24,
   "id": "32d507da",
   "metadata": {},
   "outputs": [],
   "source": [
    "final_summary = [word.text for word in summary]"
   ]
  },
  {
   "cell_type": "code",
   "execution_count": 25,
   "id": "c699b12a",
   "metadata": {},
   "outputs": [],
   "source": [
    "\n",
    "summary = ' '.join(final_summary)\n",
    "     "
   ]
  },
  {
   "cell_type": "code",
   "execution_count": 26,
   "id": "543629d7",
   "metadata": {},
   "outputs": [
    {
     "name": "stdout",
     "output_type": "stream",
     "text": [
      "\n",
      "Maria Sharapova has basically no friends as tennis players on the WTA Tour. The Russian player has no problems in openly speaking about it and in a recent interview she said: 'I don't really hide any feelings too much. \n",
      "I think everyone knows this is my job here. When I'm on the courts or when I'm on the court playing, I'm a competitor and I want to beat every single person whether they're in the locker room or across the net.\n",
      "So I'm not the one to strike up a conversation about the weather and know that in the next few minutes I have to go and try to win a tennis match. \n",
      "I'm a pretty competitive girl. I say my hellos, but I'm not sending any players flowers as well. Uhm, I'm not really friendly or close to many players.\n",
      "I have not a lot of friends away from the courts.' When she said she is not really close to a lot of players, is that something strategic that she is doing? Is it different on the men's tour than the women's tour? 'No, not at all.\n",
      "I think just because you're in the same sport doesn't mean that you have to be friends with everyone just because you're categorized, you're a tennis player, so you're going to get along with tennis players. \n",
      "I think every person has different interests. I have friends that have completely different jobs and interests, and I've met them in very different parts of my life.\n",
      "I think everyone just thinks because we're tennis players we should be the greatest of friends. But ultimately tennis is just a very small part of what we do. \n",
      "There are so many other things that we're interested in, that we do.'\n",
      "\n"
     ]
    }
   ],
   "source": [
    "\n",
    "print(text)"
   ]
  },
  {
   "cell_type": "code",
   "execution_count": 27,
   "id": "42596e9c",
   "metadata": {},
   "outputs": [
    {
     "name": "stdout",
     "output_type": "stream",
     "text": [
      "I think just because you're in the same sport doesn't mean that you have to be friends with everyone just because you're categorized, you're a tennis player, so you're going to get along with tennis players. \n",
      " I think everyone just thinks because we're tennis players we should be the greatest of friends. \n",
      "Maria Sharapova has basically no friends as tennis players on the WTA Tour. I have friends that have completely different jobs and interests, and I've met them in very different parts of my life.\n",
      " So I'm not the one to strike up a conversation about the weather and know that in the next few minutes I have to go and try to win a tennis match. \n",
      "\n"
     ]
    }
   ],
   "source": [
    "print(summary)"
   ]
  },
  {
   "cell_type": "code",
   "execution_count": null,
   "id": "74a7e290",
   "metadata": {},
   "outputs": [],
   "source": []
  }
 ],
 "metadata": {
  "kernelspec": {
   "display_name": "Python 3 (ipykernel)",
   "language": "python",
   "name": "python3"
  },
  "language_info": {
   "codemirror_mode": {
    "name": "ipython",
    "version": 3
   },
   "file_extension": ".py",
   "mimetype": "text/x-python",
   "name": "python",
   "nbconvert_exporter": "python",
   "pygments_lexer": "ipython3",
   "version": "3.11.5"
  }
 },
 "nbformat": 4,
 "nbformat_minor": 5
}
