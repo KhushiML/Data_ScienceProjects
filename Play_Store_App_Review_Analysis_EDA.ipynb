{
  "nbformat": 4,
  "nbformat_minor": 0,
  "metadata": {
    "colab": {
      "private_outputs": true,
      "provenance": [],
      "collapsed_sections": [
        "gIfDvo9L0UH2"
      ]
    },
    "kernelspec": {
      "name": "python3",
      "display_name": "Python 3"
    },
    "language_info": {
      "name": "python"
    }
  },
  "cells": [
    {
      "cell_type": "markdown",
      "source": [
        "# **Project Name**    - Play Store App Review Analysis\n",
        "\n"
      ],
      "metadata": {
        "id": "vncDsAP0Gaoa"
      }
    },
    {
      "cell_type": "markdown",
      "source": [
        "\n",
        "\n",
        "```\n",
        "# This is formatted as code\n",
        "```\n",
        "\n",
        "##### **Project Type**    - EDA\n",
        "##### **Contribution**    - Individual\n"
      ],
      "metadata": {
        "id": "beRrZCGUAJYm"
      }
    },
    {
      "cell_type": "markdown",
      "source": [
        "# **Project Summary -**\n",
        "\n",
        "\n",
        "This project endeavors to harness the potential of Play Store app data to offer actionable insights for app-making enterprises aiming to flourish in the Android marketplace.\n",
        "\n",
        "Evaluating customer reviews for sentiment is particularly crucial as it offers a direct line to user experiences and feedback. Sentiment analysis of these reviews can reveal user preferences, common pain points and areas where the app excels or falls short. This information is invaluable for refining app features and ensuring that updates align with user expectations.\n",
        "\n",
        "Furthermore visually intuitive representations of the data such as charts and graphs can make it easier for stakeholders to grasp complex insights and trends at a glance.This data-driven approach not only helps in retaining current users but also in attracting new ones thus fostering business expansion.\n",
        "\n",
        "\n"
      ],
      "metadata": {
        "id": "FJNUwmbgGyua"
      }
    },
    {
      "cell_type": "markdown",
      "source": [
        "# **GitHub Link -**"
      ],
      "metadata": {
        "id": "w6K7xa23Elo4"
      }
    },
    {
      "cell_type": "markdown",
      "source": [
        "**Github Link** :\n",
        "\n",
        "\n"
      ],
      "metadata": {
        "id": "h1o69JH3Eqqn"
      }
    },
    {
      "cell_type": "markdown",
      "source": [
        "# **Problem Statement**\n"
      ],
      "metadata": {
        "id": "yQaldy8SH6Dl"
      }
    },
    {
      "cell_type": "markdown",
      "source": [
        "**Write Problem Statement Here.**\n",
        "\n",
        "**Objective**: Harness Play Store app data to provide actionable insights for app-making enterprises."
      ],
      "metadata": {
        "id": "DpeJGUA3kjGy"
      }
    },
    {
      "cell_type": "markdown",
      "source": [
        "#### **Define Your Business Objective?**"
      ],
      "metadata": {
        "id": "PH-0ReGfmX4f"
      }
    },
    {
      "cell_type": "markdown",
      "source": [
        "\n",
        "\n",
        "- To give the insights about the app playstore data.\n",
        "- Utilize Play Store app data to derive actionable insights.\n",
        "- Facilitate app-making businesses success in the Android marketplace.\n",
        "- Identify key factors influencing app engagement and success.\n",
        "- Optimize app features and user experiences based on data-driven insights.\n",
        "- Make informed decisions to drive business growth and innovation.\n"
      ],
      "metadata": {
        "id": "PhDvGCAqmjP1"
      }
    },
    {
      "cell_type": "markdown",
      "source": [
        "# **General Guidelines** : -  "
      ],
      "metadata": {
        "id": "mDgbUHAGgjLW"
      }
    },
    {
      "cell_type": "markdown",
      "source": [
        "1.   Well-structured, formatted, and commented code is required.\n",
        "2.   Exception Handling, Production Grade Code & Deployment Ready Code will be a plus. Those students will be awarded some additional credits.\n",
        "     \n",
        "     The additional credits will have advantages over other students during Star Student selection.\n",
        "       \n",
        "             [ Note: - Deployment Ready Code is defined as, the whole .ipynb notebook should be executable in one go\n",
        "                       without a single error logged. ]\n",
        "\n",
        "3.   Each and every logic should have proper comments.\n",
        "4. You may add as many number of charts you want. Make Sure for each and every chart the following format should be answered.\n",
        "        \n",
        "\n",
        "```\n",
        "# Chart visualization code\n",
        "```\n",
        "            \n",
        "\n",
        "*   Why did you pick the specific chart?\n",
        "*   What is/are the insight(s) found from the chart?\n",
        "* Will the gained insights help creating a positive business impact?\n",
        "Are there any insights that lead to negative growth? Justify with specific reason.\n",
        "\n",
        "5. You have to create at least 20 logical & meaningful charts having important insights.\n",
        "\n",
        "\n",
        "[ Hints : - Do the Vizualization in  a structured way while following \"UBM\" Rule.\n",
        "\n",
        "U - Univariate Analysis,\n",
        "\n",
        "B - Bivariate Analysis (Numerical - Categorical, Numerical - Numerical, Categorical - Categorical)\n",
        "\n",
        "M - Multivariate Analysis\n",
        " ]\n",
        "\n",
        "\n",
        "\n"
      ],
      "metadata": {
        "id": "ZrxVaUj-hHfC"
      }
    },
    {
      "cell_type": "markdown",
      "source": [
        "# ***Let's Begin !***"
      ],
      "metadata": {
        "id": "O_i_v8NEhb9l"
      }
    },
    {
      "cell_type": "markdown",
      "source": [
        "## ***1. Know Your Data***"
      ],
      "metadata": {
        "id": "HhfV-JJviCcP"
      }
    },
    {
      "cell_type": "markdown",
      "source": [
        "### Import Libraries"
      ],
      "metadata": {
        "id": "Y3lxredqlCYt"
      }
    },
    {
      "cell_type": "code",
      "source": [
        "# Import Libraries\n",
        "import pandas as pd\n",
        "import numpy as np\n",
        "import matplotlib.pyplot as plt\n",
        "import seaborn as sns\n"
      ],
      "metadata": {
        "id": "M8Vqi-pPk-HR"
      },
      "execution_count": null,
      "outputs": []
    },
    {
      "cell_type": "markdown",
      "source": [
        "### Dataset Loading"
      ],
      "metadata": {
        "id": "3RnN4peoiCZX"
      }
    },
    {
      "cell_type": "code",
      "source": [
        "# Load Dataset\n",
        "from google.colab import drive\n",
        "drive.mount('/content/drive')"
      ],
      "metadata": {
        "id": "4CkvbW_SlZ_R"
      },
      "execution_count": null,
      "outputs": []
    },
    {
      "cell_type": "code",
      "source": [
        "# Define file paths\n",
        "apps_data_path = '/content/drive/My Drive/EDA/Play_Store_Data.csv'\n",
        "reviews_data_path = '/content/drive/My Drive/EDA/UserReviews.csv'\n",
        "\n",
        "# Load datasets\n",
        "apps_data = pd.read_csv(apps_data_path)\n",
        "reviews_data = pd.read_csv(reviews_data_path)"
      ],
      "metadata": {
        "id": "dicJSgAwOieE"
      },
      "execution_count": null,
      "outputs": []
    },
    {
      "cell_type": "markdown",
      "source": [
        "### Dataset First View"
      ],
      "metadata": {
        "id": "x71ZqKXriCWQ"
      }
    },
    {
      "cell_type": "code",
      "source": [
        "# Dataset First Look\n",
        "apps_data.head()"
      ],
      "metadata": {
        "id": "LWNFOSvLl09H"
      },
      "execution_count": null,
      "outputs": []
    },
    {
      "cell_type": "code",
      "source": [
        "apps_data.tail()"
      ],
      "metadata": {
        "id": "HSs_lYHgRT3m"
      },
      "execution_count": null,
      "outputs": []
    },
    {
      "cell_type": "code",
      "source": [
        "reviews_data.head()"
      ],
      "metadata": {
        "id": "54w8YuiPOhUq"
      },
      "execution_count": null,
      "outputs": []
    },
    {
      "cell_type": "code",
      "source": [
        "reviews_data.tail()"
      ],
      "metadata": {
        "id": "EkkBgfWYRi2d"
      },
      "execution_count": null,
      "outputs": []
    },
    {
      "cell_type": "markdown",
      "source": [
        "### Dataset Rows & Columns count"
      ],
      "metadata": {
        "id": "7hBIi_osiCS2"
      }
    },
    {
      "cell_type": "code",
      "source": [
        "# Dataset Rows & Columns count\n",
        "apps_data.shape"
      ],
      "metadata": {
        "id": "Kllu7SJgmLij"
      },
      "execution_count": null,
      "outputs": []
    },
    {
      "cell_type": "code",
      "source": [
        "reviews_data.shape"
      ],
      "metadata": {
        "id": "50RdNp7GRwbg"
      },
      "execution_count": null,
      "outputs": []
    },
    {
      "cell_type": "markdown",
      "source": [
        "### Dataset Information"
      ],
      "metadata": {
        "id": "JlHwYmJAmNHm"
      }
    },
    {
      "cell_type": "code",
      "source": [
        "# Dataset Info\n",
        "apps_data.info()"
      ],
      "metadata": {
        "id": "e9hRXRi6meOf"
      },
      "execution_count": null,
      "outputs": []
    },
    {
      "cell_type": "code",
      "source": [
        "reviews_data.info()"
      ],
      "metadata": {
        "id": "t2GWstFYR_cZ"
      },
      "execution_count": null,
      "outputs": []
    },
    {
      "cell_type": "markdown",
      "source": [
        "#### Duplicate Values"
      ],
      "metadata": {
        "id": "35m5QtbWiB9F"
      }
    },
    {
      "cell_type": "code",
      "source": [
        "# Dataset Duplicate Value Count\n",
        "apps_duplicate_count = apps_data.duplicated().sum()\n",
        "print(\"Number of duplicate values in apps_data:\", apps_duplicate_count)"
      ],
      "metadata": {
        "id": "1sLdpKYkmox0"
      },
      "execution_count": null,
      "outputs": []
    },
    {
      "cell_type": "code",
      "source": [
        "# Find duplicate count in reviews_data\n",
        "reviews_duplicate_count = reviews_data.duplicated().sum()\n",
        "print(\"Number of duplicate values in reviews_data:\", reviews_duplicate_count)"
      ],
      "metadata": {
        "id": "YzRmGOfYTW9O"
      },
      "execution_count": null,
      "outputs": []
    },
    {
      "cell_type": "markdown",
      "source": [
        "#### Missing Values/Null Values"
      ],
      "metadata": {
        "id": "PoPl-ycgm1ru"
      }
    },
    {
      "cell_type": "code",
      "source": [
        "# Missing Values/Null Values Count\n",
        "# Find missing values count in apps_data\n",
        "apps_missing_count = apps_data.isnull().sum()\n",
        "print(\"Missing values count in apps_data:\")\n",
        "print(apps_missing_count)"
      ],
      "metadata": {
        "id": "GgHWkxvamxVg"
      },
      "execution_count": null,
      "outputs": []
    },
    {
      "cell_type": "code",
      "source": [
        "# Calculate percentage of null values in apps_data\n",
        "apps_null_percentage = (apps_data.isnull().sum() / len(apps_data)) * 100\n",
        "apps_null_percentage"
      ],
      "metadata": {
        "id": "QG2104844uNu"
      },
      "execution_count": null,
      "outputs": []
    },
    {
      "cell_type": "code",
      "source": [
        "# Find missing values count in reviews_data\n",
        "reviews_missing_count = reviews_data.isnull().sum()\n",
        "print(\"\\nMissing values count in reviews_data:\")\n",
        "print(reviews_missing_count)"
      ],
      "metadata": {
        "id": "gdf8eRDVT3k5"
      },
      "execution_count": null,
      "outputs": []
    },
    {
      "cell_type": "code",
      "source": [
        "# Calculate percentage of null values in reviews_data\n",
        "reviews_null_percentage = (reviews_data.isnull().sum() / len(reviews_data)) * 100\n",
        "reviews_null_percentage"
      ],
      "metadata": {
        "id": "ttTrV3PW5Q7L"
      },
      "execution_count": null,
      "outputs": []
    },
    {
      "cell_type": "code",
      "source": [
        "# Visualizing the missing values\n",
        "import missingno as msno"
      ],
      "metadata": {
        "id": "3q5wnI3om9sJ"
      },
      "execution_count": null,
      "outputs": []
    },
    {
      "cell_type": "code",
      "source": [
        "# Visualize missing values in apps_data\n",
        "plt.figure(figsize=(10, 8))\n",
        "msno.matrix(apps_data)\n",
        "plt.title('Missing Values in Apps Data')\n",
        "plt.show()\n"
      ],
      "metadata": {
        "id": "ysZj9nR1VRjX"
      },
      "execution_count": null,
      "outputs": []
    },
    {
      "cell_type": "code",
      "source": [
        "# Visualize missing values in apps_data\n",
        "plt.figure(figsize=(10, 6))\n",
        "msno.matrix(apps_data)\n",
        "plt.title('Missing Values in Apps Data')\n",
        "plt.show()\n"
      ],
      "metadata": {
        "id": "uS0e7EFHVbAe"
      },
      "execution_count": null,
      "outputs": []
    },
    {
      "cell_type": "markdown",
      "source": [
        "### What did you know about your dataset?"
      ],
      "metadata": {
        "id": "H0kj-8xxnORC"
      }
    },
    {
      "cell_type": "markdown",
      "source": [
        "*italicized text*\n",
        "\n",
        "- The apps data consists of 10,841 entries and 13 columns, including\n",
        "  information such as the app name, category, rating, number of reviews, size, installs, and more.\n",
        "\n",
        "- The reviews data consists of 64,295 entries and 5 columns, including the\n",
        "  app name, translated review, sentiment, sentiment polarity, and sentiment subjectivity.\n",
        "\n",
        "- There are 483 duplicate values in the apps data and 33,616 duplicate\n",
        "  values in the reviews data.\n",
        "\n",
        "- The apps data contains missing values in the 'Rating', 'Type', 'Content\n",
        "  Rating', 'Current Ver', and 'Android Ver' columns, with the highest number of missing values in the 'Rating' column (1,474).\n",
        "\n",
        "- The reviews data contains missing values in the 'Translated_Review',\n",
        "  'Sentiment', 'Sentiment_Polarity', and 'Sentiment_Subjectivity' columns, with the highest number of missing values in the 'Translated_Review' column (26,868)."
      ],
      "metadata": {
        "id": "gfoNAAC-nUe_"
      }
    },
    {
      "cell_type": "markdown",
      "source": [
        "## ***2. Understanding Your Variables***"
      ],
      "metadata": {
        "id": "nA9Y7ga8ng1Z"
      }
    },
    {
      "cell_type": "code",
      "source": [
        "# Dataset Columns\n",
        "apps_data.columns"
      ],
      "metadata": {
        "id": "j7xfkqrt5Ag5"
      },
      "execution_count": null,
      "outputs": []
    },
    {
      "cell_type": "code",
      "source": [
        "apps_data.dtypes"
      ],
      "metadata": {
        "id": "3_vjJP9iM47z"
      },
      "execution_count": null,
      "outputs": []
    },
    {
      "cell_type": "code",
      "source": [
        " reviews_data.columns"
      ],
      "metadata": {
        "id": "oP-ZK88CXG7S"
      },
      "execution_count": null,
      "outputs": []
    },
    {
      "cell_type": "code",
      "source": [
        " reviews_data.dtypes"
      ],
      "metadata": {
        "id": "gonNA14UM8Su"
      },
      "execution_count": null,
      "outputs": []
    },
    {
      "cell_type": "code",
      "source": [
        "# Dataset Describe"
      ],
      "metadata": {
        "id": "DnOaZdaE5Q5t"
      },
      "execution_count": null,
      "outputs": []
    },
    {
      "cell_type": "code",
      "source": [
        "apps_data.describe(include = 'all')"
      ],
      "metadata": {
        "id": "GUONczqVeVUb"
      },
      "execution_count": null,
      "outputs": []
    },
    {
      "cell_type": "code",
      "source": [
        "reviews_data.describe(include = 'all')"
      ],
      "metadata": {
        "id": "Mn-Bt6YKesEQ"
      },
      "execution_count": null,
      "outputs": []
    },
    {
      "cell_type": "markdown",
      "source": [
        "### Variables Description"
      ],
      "metadata": {
        "id": "PBTbrJXOngz2"
      }
    },
    {
      "cell_type": "markdown",
      "source": [
        "For Apps_data:\n",
        "- App (object) is the app's name. Category (object) indicates the app's category.\n",
        "- Rating (float64) shows the average user rating.\n",
        "- Reviews (object) lists the number of user reviews.\n",
        "--Size (object) represents the app's size (e.g., '19M').\n",
        "- Installs (object) indicates the number of installs (e.g., '1,000,000+').\n",
        "- Type (object) denotes if the app is 'Free' or 'Paid'.\n",
        "- Price (object) shows the price in USD if paid.\n",
        "- Content Rating (object) specifies the age suitability.\n",
        "- Genres (object) provides additional genre details.\n",
        "- Last Updated (object) is the date of the latest update.\n",
        "- Current Ver (object) denotes the app's current version.\n",
        "- Android Ver (object) indicates the required Android version.\n",
        "\n",
        "For Reviews_data:\n",
        "\n",
        "The reviews_data dataset consists of several variables providing insights into App data.\n",
        "\n",
        "- App (object) indicates the name of the application being reviewed and Translated_Review (object) contains the user review text translated into\n",
        " English.\n",
        "-  Sentiment (object) categorizes the review's overall sentiment as Positive, Negative, or Neutral.\n",
        "- Sentiment_Polarity (float64) is a numerical score ranging from -1 to 1 representing the sentiment polarity, with -1 being very negative, 0 neutral and 1 very positive.\n",
        "- Sentiment_Subjectivity (float64) scores from 0 to 1 indicating the review's subjectivity where 0 is very objective and 1 is very subjective.\n"
      ],
      "metadata": {
        "id": "aJV4KIxSnxay"
      }
    },
    {
      "cell_type": "markdown",
      "source": [
        "### Check Unique Values for each variable."
      ],
      "metadata": {
        "id": "u3PMJOP6ngxN"
      }
    },
    {
      "cell_type": "code",
      "source": [
        "# Check Unique Values for each variable.\n",
        "for column in apps_data.columns:\n",
        "    unique_values = apps_data[column].unique()\n",
        "    print(f\"{column}: {unique_values}\")"
      ],
      "metadata": {
        "id": "zms12Yq5n-jE"
      },
      "execution_count": null,
      "outputs": []
    },
    {
      "cell_type": "code",
      "source": [
        "for column in reviews_data.columns:\n",
        "    unique_values = reviews_data[column].unique()\n",
        "    print(f\"{column}: {unique_values}\")"
      ],
      "metadata": {
        "id": "SXbomgwwfWtp"
      },
      "execution_count": null,
      "outputs": []
    },
    {
      "cell_type": "markdown",
      "source": [
        "## 3. ***Data Wrangling***"
      ],
      "metadata": {
        "id": "dauF4eBmngu3"
      }
    },
    {
      "cell_type": "markdown",
      "source": [
        "### Data Wrangling Code"
      ],
      "metadata": {
        "id": "bKJF3rekwFvQ"
      }
    },
    {
      "cell_type": "code",
      "source": [
        "# Write your code to make your dataset analysis ready."
      ],
      "metadata": {
        "id": "wk-9a2fpoLcV"
      },
      "execution_count": null,
      "outputs": []
    },
    {
      "cell_type": "code",
      "source": [
        "# Dropping the Missing Values since the missing data has a significant percdentage in apps_data and reviews_data"
      ],
      "metadata": {
        "id": "uG845HJY5hxQ"
      },
      "execution_count": null,
      "outputs": []
    },
    {
      "cell_type": "code",
      "source": [
        "# Drop duplicates from apps_data\n",
        "apps_data.drop_duplicates(inplace = True)\n",
        "apps_data.shape"
      ],
      "metadata": {
        "id": "OjOPLPIO4Skn"
      },
      "execution_count": null,
      "outputs": []
    },
    {
      "cell_type": "code",
      "source": [
        "reviews_data.drop_duplicates(inplace = True)\n",
        "reviews_data.shape"
      ],
      "metadata": {
        "id": "0lIrQE8w7cGd"
      },
      "execution_count": null,
      "outputs": []
    },
    {
      "cell_type": "code",
      "source": [
        "apps_data.isnull().sum()"
      ],
      "metadata": {
        "id": "rqj_Yce_8cYw"
      },
      "execution_count": null,
      "outputs": []
    },
    {
      "cell_type": "code",
      "source": [
        "reviews_data.isnull().sum()"
      ],
      "metadata": {
        "id": "rIxRpUeD8lPt"
      },
      "execution_count": null,
      "outputs": []
    },
    {
      "cell_type": "code",
      "source": [
        "# Drop missing values from apps_data\n",
        "apps_data_cleaned = apps_data.dropna()\n",
        "print(\"Shape of apps_data_cleaned:\", apps_data_cleaned.shape)"
      ],
      "metadata": {
        "id": "0S9dsphj8swX"
      },
      "execution_count": null,
      "outputs": []
    },
    {
      "cell_type": "code",
      "source": [
        "# Drop missing values from reviews_data\n",
        "reviews_data_cleaned = reviews_data.dropna()\n",
        "print(\"Shape of reviews_data_cleaned:\", reviews_data_cleaned.shape)"
      ],
      "metadata": {
        "id": "zEyvS6709E5A"
      },
      "execution_count": null,
      "outputs": []
    },
    {
      "cell_type": "code",
      "source": [
        "# Check data types of columns in apps_data_cleaned\n",
        "print(\"Data types of columns in apps_data_cleaned:\")\n",
        "print(apps_data_cleaned.dtypes)"
      ],
      "metadata": {
        "id": "k8aXFiz69TWG"
      },
      "execution_count": null,
      "outputs": []
    },
    {
      "cell_type": "code",
      "source": [
        "# Check data types of columns in reviews_data_cleaned\n",
        "print(\"\\nData types of columns in reviews_data_cleaned:\")\n",
        "print(reviews_data_cleaned.dtypes)"
      ],
      "metadata": {
        "id": "dXvwzoQ99fXg"
      },
      "execution_count": null,
      "outputs": []
    },
    {
      "cell_type": "code",
      "source": [
        "apps_data_cleaned.dtypes"
      ],
      "metadata": {
        "id": "eJtDgiV590-P"
      },
      "execution_count": null,
      "outputs": []
    },
    {
      "cell_type": "code",
      "source": [
        "apps_data_cleaned.head()"
      ],
      "metadata": {
        "id": "gbeHqPoUfvsd"
      },
      "execution_count": null,
      "outputs": []
    },
    {
      "cell_type": "markdown",
      "source": [],
      "metadata": {
        "id": "oZoxG11Q6_do"
      }
    },
    {
      "cell_type": "code",
      "source": [],
      "metadata": {
        "id": "96b38l6Jjf4j"
      },
      "execution_count": null,
      "outputs": []
    },
    {
      "cell_type": "code",
      "source": [
        "apps_data_cleaned['Rating'] = apps_data_cleaned['Rating'].astype(float)\n"
      ],
      "metadata": {
        "id": "Jt73cjbk6m4P"
      },
      "execution_count": null,
      "outputs": []
    },
    {
      "cell_type": "code",
      "source": [
        "apps_data_cleaned.dtypes"
      ],
      "metadata": {
        "id": "AV0BOVWWjgml"
      },
      "execution_count": null,
      "outputs": []
    },
    {
      "cell_type": "code",
      "source": [
        "apps_data_cleaned['Reviews']\n",
        "\n"
      ],
      "metadata": {
        "id": "0rJIqaFShv3E"
      },
      "execution_count": null,
      "outputs": []
    },
    {
      "cell_type": "code",
      "source": [
        "# Remove rows where 'Varies with device' is found in the 'Size' column\n",
        "apps_data_cleaned = apps_data_cleaned[apps_data_cleaned['Size'] != 'Varies with device']\n"
      ],
      "metadata": {
        "id": "17cHnp-5tTpl"
      },
      "execution_count": null,
      "outputs": []
    },
    {
      "cell_type": "code",
      "source": [
        "apps_data_cleaned.shape"
      ],
      "metadata": {
        "id": "tmFVn9E8tVj9"
      },
      "execution_count": null,
      "outputs": []
    },
    {
      "cell_type": "code",
      "source": [
        "# Remove commas from the 'Size' column\n",
        "apps_data_cleaned['Size'] = apps_data_cleaned['Size'].str.replace(',', '')"
      ],
      "metadata": {
        "id": "mF3wWxbttyX_"
      },
      "execution_count": null,
      "outputs": []
    },
    {
      "cell_type": "code",
      "source": [],
      "metadata": {
        "id": "aoZJRfoYt4uO"
      },
      "execution_count": null,
      "outputs": []
    },
    {
      "cell_type": "code",
      "source": [
        "\n",
        "# Remove '+' sign from the 'Size' column\n",
        "apps_data_cleaned['Size'] = apps_data_cleaned['Size'].str.replace('+', '')"
      ],
      "metadata": {
        "id": "j0EJd6jXtY8X"
      },
      "execution_count": null,
      "outputs": []
    },
    {
      "cell_type": "code",
      "source": [
        "# Multiply by 1000 if 'k' is found, and by 1000000 if 'M' is found\n",
        "def clean_size(size):\n",
        "    if size.endswith('M'):\n",
        "        return float(size[:-1]) * 1000000\n",
        "    elif size.endswith('k'):\n",
        "        return float(size[:-1]) * 1000\n",
        "    else:\n",
        "        return float(size)\n",
        "\n",
        "apps_data_cleaned['Size'] = apps_data_cleaned['Size'].apply(clean_size)\n"
      ],
      "metadata": {
        "id": "f-3CThgrtebs"
      },
      "execution_count": null,
      "outputs": []
    },
    {
      "cell_type": "code",
      "source": [
        "apps_data_cleaned.head()"
      ],
      "metadata": {
        "id": "eIpNT1SluAtX"
      },
      "execution_count": null,
      "outputs": []
    },
    {
      "cell_type": "code",
      "source": [
        "apps_data_cleaned.dtypes"
      ],
      "metadata": {
        "id": "raeDc002uFo9"
      },
      "execution_count": null,
      "outputs": []
    },
    {
      "cell_type": "code",
      "source": [
        "\n",
        "# Remove rows where 'Free' is found in the 'Installs' column\n",
        "apps_data_cleaned = apps_data_cleaned[apps_data_cleaned['Installs'] != 'Free']\n",
        "# Remove commas from the 'Installs' column\n",
        "apps_data_cleaned['Installs'] = apps_data_cleaned['Installs'].str.replace(',', '')\n",
        "\n",
        "# Remove '+' sign from the 'Installs' column\n",
        "apps_data_cleaned['Installs'] = apps_data_cleaned['Installs'].str.replace('+', '')"
      ],
      "metadata": {
        "id": "snX9VbYpuKLl"
      },
      "execution_count": null,
      "outputs": []
    },
    {
      "cell_type": "code",
      "source": [
        "apps_data_cleaned.shape"
      ],
      "metadata": {
        "id": "eXtzmrBuu2Z3"
      },
      "execution_count": null,
      "outputs": []
    },
    {
      "cell_type": "code",
      "source": [
        "apps_data_cleaned.dtypes"
      ],
      "metadata": {
        "id": "IAbiXa6Ku5PE"
      },
      "execution_count": null,
      "outputs": []
    },
    {
      "cell_type": "code",
      "source": [
        "# Convert the 'Installs' column to float\n",
        "apps_data_cleaned['Installs'] = apps_data_cleaned['Installs'].astype(float)"
      ],
      "metadata": {
        "id": "9TrkuNU3vLu3"
      },
      "execution_count": null,
      "outputs": []
    },
    {
      "cell_type": "code",
      "source": [
        "apps_data_cleaned.head()"
      ],
      "metadata": {
        "id": "tPqICxoLvNak"
      },
      "execution_count": null,
      "outputs": []
    },
    {
      "cell_type": "code",
      "source": [
        "## Remove rows where '0' and blanks are present in the 'Type' column\n",
        "apps_data_cleaned = apps_data_cleaned[(apps_data_cleaned['Type'] != '0') & (apps_data_cleaned['Type'] != '')]\n"
      ],
      "metadata": {
        "id": "6ehNox6AMA5s"
      },
      "execution_count": null,
      "outputs": []
    },
    {
      "cell_type": "code",
      "source": [
        "apps_data_cleaned.shape"
      ],
      "metadata": {
        "id": "Asbr_DGNNnqG"
      },
      "execution_count": null,
      "outputs": []
    },
    {
      "cell_type": "code",
      "source": [
        "apps_data_cleaned.head()"
      ],
      "metadata": {
        "id": "0sGovbvBNtv6"
      },
      "execution_count": null,
      "outputs": []
    },
    {
      "cell_type": "code",
      "source": [
        "apps_data_cleaned.dtypes"
      ],
      "metadata": {
        "id": "-SoQM6BEOKmS"
      },
      "execution_count": null,
      "outputs": []
    },
    {
      "cell_type": "code",
      "source": [
        "# Remove dollar sign ('$') from the 'Price' column\n",
        "apps_data_cleaned['Price'] = apps_data_cleaned['Price'].str.replace('$', '')\n",
        "\n",
        "# Convert the 'Price' column to float\n",
        "apps_data_cleaned['Price'] = apps_data_cleaned['Price'].astype(float)"
      ],
      "metadata": {
        "id": "cfxN821tO6Lg"
      },
      "execution_count": null,
      "outputs": []
    },
    {
      "cell_type": "code",
      "source": [
        "apps_data_cleaned.dtypes"
      ],
      "metadata": {
        "id": "Bv8HuQYBPCT_"
      },
      "execution_count": null,
      "outputs": []
    },
    {
      "cell_type": "code",
      "source": [
        "# Remove rows with blanks in the 'Content Rating' column\n",
        "apps_data_cleaned = apps_data_cleaned[apps_data_cleaned['Content Rating'] != '']\n"
      ],
      "metadata": {
        "id": "7bqIsjqAPF7_"
      },
      "execution_count": null,
      "outputs": []
    },
    {
      "cell_type": "code",
      "source": [
        "apps_data_cleaned[['Last Updated']]"
      ],
      "metadata": {
        "id": "EDsJ9G7fPxSH"
      },
      "execution_count": null,
      "outputs": []
    },
    {
      "cell_type": "code",
      "source": [
        "# Convert 'Last Updated' column to datetime format\n",
        "apps_data_cleaned['Last Updated'] = pd.to_datetime(apps_data_cleaned['Last Updated'])"
      ],
      "metadata": {
        "id": "tlw24NP0TyNg"
      },
      "execution_count": null,
      "outputs": []
    },
    {
      "cell_type": "code",
      "source": [
        "apps_data_cleaned.head()"
      ],
      "metadata": {
        "id": "JDdaEZu4T32J"
      },
      "execution_count": null,
      "outputs": []
    },
    {
      "cell_type": "code",
      "source": [
        "apps_data_cleaned.tail()"
      ],
      "metadata": {
        "id": "I_Zv43yLTVr6"
      },
      "execution_count": null,
      "outputs": []
    },
    {
      "cell_type": "code",
      "source": [
        "reviews_data_cleaned.head()"
      ],
      "metadata": {
        "id": "udpEtWJDTWJ9"
      },
      "execution_count": null,
      "outputs": []
    },
    {
      "cell_type": "code",
      "source": [
        "reviews_data_cleaned.dtypes"
      ],
      "metadata": {
        "id": "zw9amLAtHCE_"
      },
      "execution_count": null,
      "outputs": []
    },
    {
      "cell_type": "code",
      "source": [
        "reviews_data_cleaned.isnull().sum()"
      ],
      "metadata": {
        "id": "Ho5iuwq27Wqx"
      },
      "execution_count": null,
      "outputs": []
    },
    {
      "cell_type": "code",
      "source": [
        "reviews_data_cleaned.head()"
      ],
      "metadata": {
        "id": "k2T8Cl9h-6JE"
      },
      "execution_count": null,
      "outputs": []
    },
    {
      "cell_type": "code",
      "source": [
        "reviews_data_cleaned.to_excel(\"/content/drive/My Drive/EDA/b.xlsx\")"
      ],
      "metadata": {
        "id": "iQ3CePdP_NXd"
      },
      "execution_count": null,
      "outputs": []
    },
    {
      "cell_type": "code",
      "source": [
        "reviews_data_cleaned"
      ],
      "metadata": {
        "id": "joFWfyp2M_iV"
      },
      "execution_count": null,
      "outputs": []
    },
    {
      "cell_type": "code",
      "source": [
        "# Check Unique Values for each variable.\n",
        "for column in reviews_data_cleaned.columns:\n",
        "    unique_values = reviews_data_cleaned[column].unique()\n",
        "    print(f\"{column}: {unique_values}\")"
      ],
      "metadata": {
        "id": "D80rj3iENGJ5"
      },
      "execution_count": null,
      "outputs": []
    },
    {
      "cell_type": "code",
      "source": [
        "reviews_data_cleaned"
      ],
      "metadata": {
        "id": "J5Hvc3V1PGV1"
      },
      "execution_count": null,
      "outputs": []
    },
    {
      "cell_type": "markdown",
      "source": [
        "\\### What all manipulations have you done and insights you found?\n",
        "\n",
        "-  I have dropped this missing values in apps_data and reviews_data since the missing values are very large in number.\n",
        "- I have cleaned columns of both dataset and converted the data type of each column."
      ],
      "metadata": {
        "id": "MSa1f5Uengrz"
      }
    },
    {
      "cell_type": "code",
      "source": [
        "reviews_data_cleaned.dtypes"
      ],
      "metadata": {
        "id": "yorjgNluUlW6"
      },
      "execution_count": null,
      "outputs": []
    },
    {
      "cell_type": "code",
      "source": [
        "for column in reviews_data_cleaned.columns:\n",
        "    no_of_unique_values = reviews_data_cleaned[column].nunique()\n",
        "    print(f\"{column}: {no_of_unique_values}\")"
      ],
      "metadata": {
        "id": "O-LZYEVXdYWk"
      },
      "execution_count": null,
      "outputs": []
    },
    {
      "cell_type": "code",
      "source": [
        "for column in apps_data_cleaned.columns:\n",
        "    no_of_unique_values1 = apps_data_cleaned[column].nunique()\n",
        "    print(f\"{column}: {no_of_unique_values1}\")"
      ],
      "metadata": {
        "id": "pSq1AYAtd36x"
      },
      "execution_count": null,
      "outputs": []
    },
    {
      "cell_type": "markdown",
      "source": [
        "## ***4. Data Vizualization, Storytelling & Experimenting with charts : Understand the relationships between variables***"
      ],
      "metadata": {
        "id": "GF8Ens_Soomf"
      }
    },
    {
      "cell_type": "markdown",
      "source": [
        "#### Chart - 1"
      ],
      "metadata": {
        "id": "0wOQAZs5pc--"
      }
    },
    {
      "cell_type": "code",
      "source": [
        "# Assuming df1 and df2 are your DataFrames and 'Company Name' is the common column\n",
        "merged_df = pd.merge(apps_data_cleaned, reviews_data_cleaned, on='App', how='inner')\n"
      ],
      "metadata": {
        "id": "v7lpTmAjhFlU"
      },
      "execution_count": null,
      "outputs": []
    },
    {
      "cell_type": "code",
      "source": [
        "apps_data_cleaned.shape, reviews_data_cleaned.shape"
      ],
      "metadata": {
        "id": "r7SKqmvZhYSj"
      },
      "execution_count": null,
      "outputs": []
    },
    {
      "cell_type": "code",
      "source": [
        "merged_df"
      ],
      "metadata": {
        "id": "qszTjMeRhSeA"
      },
      "execution_count": null,
      "outputs": []
    },
    {
      "cell_type": "code",
      "source": [
        "merged_df.dtypes"
      ],
      "metadata": {
        "id": "xZ06g4OrhjFq"
      },
      "execution_count": null,
      "outputs": []
    },
    {
      "cell_type": "code",
      "source": [
        "# Chart - 1 visualization code\n",
        "\n",
        "import pandas as pd\n",
        "import matplotlib.pyplot as plt\n",
        "\n",
        "# Assuming your DataFrame is named df\n",
        "category_counts = merged_df['Category'].value_counts()\n",
        "\n",
        "# Plotting the bar graph\n",
        "plt.figure(figsize=(10, 6))\n",
        "category_counts.plot(kind='bar', color='skyblue')\n",
        "plt.title('Number of Apps in Each Category')\n",
        "plt.xlabel('Category')\n",
        "plt.ylabel('Number of Apps')\n",
        "plt.xticks(rotation=45, ha='right')\n",
        "plt.tight_layout()\n",
        "plt.show()\n"
      ],
      "metadata": {
        "id": "7v_ESjsspbW7"
      },
      "execution_count": null,
      "outputs": []
    },
    {
      "cell_type": "markdown",
      "source": [
        "##### 1. Why did you pick the specific chart?"
      ],
      "metadata": {
        "id": "K5QZ13OEpz2H"
      }
    },
    {
      "cell_type": "markdown",
      "source": [
        "I have picked the bar chart since bar chart is best for representation of categorical data."
      ],
      "metadata": {
        "id": "XESiWehPqBRc"
      }
    },
    {
      "cell_type": "markdown",
      "source": [
        "##### 2. What is/are the insight(s) found from the chart?"
      ],
      "metadata": {
        "id": "lQ7QKXXCp7Bj"
      }
    },
    {
      "cell_type": "markdown",
      "source": [
        "Here, I have plotted the number of apps in each category. Maximum number of apps are found in Category 'Game' and Minimum number of apps are found in Category 'Comics'."
      ],
      "metadata": {
        "id": "C_j1G7yiqdRP"
      }
    },
    {
      "cell_type": "markdown",
      "source": [
        "##### 3. Will the gained insights help creating a positive business impact?\n"
      ],
      "metadata": {
        "id": "448CDAPjqfQr"
      }
    },
    {
      "cell_type": "markdown",
      "source": [
        "- The \"GAME\" category is highly saturated indicating strong competition. If you're planning to launch a game app, it will be crucial to offer unique features or a highly engaging user experience to stand out.\n",
        "\n",
        "- Categories with fewer apps such as \"COMICS\" or \"WEATHER\" may present opportunities to capture market share with less competition.\n",
        "\n",
        "- Investing in categories like \"HEALTH_AND_FITNESS\" or \"FINANCE\" which have substantial numbers of apps but not as high as \"GAME\" or \"FAMILY\" can be lucrative. These areas might still have robust user interest but with less intense competition.\n",
        "\n",
        "- Understanding where the majority of apps are concentrated helps in making informed decisions about where to allocate development and marketing resources. For instance, in highly saturated categories more marketing budget might be needed to gain visibility.\n",
        "\n",
        "- Different categories might require different engagement strategies. For example, gaming apps often rely on frequent updates and community building while health and fitness apps might benefit from partnerships with fitness influencers and integrating with wearable tech.\n",
        "\n",
        "- Observing the distribution of apps across categories can also help in identifying emerging trends. If a traditionally less populated category starts seeing an increase in app numbers, it might indicate a growing interest or a new trend.\n",
        "\n",
        "- Companies can use this data to strategically plan their app development pipeline. For instance, if entering a saturated market, a differentiated product is necessary. Conversely, entering a less crowded market can be an opportunity to establish dominance."
      ],
      "metadata": {
        "id": "3cspy4FjqxJW"
      }
    },
    {
      "cell_type": "markdown",
      "source": [
        "#### Chart - 2"
      ],
      "metadata": {
        "id": "KSlN3yHqYklG"
      }
    },
    {
      "cell_type": "code",
      "source": [
        "# Chart - 2 visualization code\n",
        "\n",
        "# Histograms\n",
        "numeric_vars = ['Rating', 'Price', 'Size', 'Installs']\n",
        "merged_df[numeric_vars].hist(figsize=(10, 8))\n",
        "plt.tight_layout()\n",
        "plt.show()"
      ],
      "metadata": {
        "id": "R4YgtaqtYklH"
      },
      "execution_count": null,
      "outputs": []
    },
    {
      "cell_type": "markdown",
      "source": [
        "##### 1. Why did you pick the specific chart?"
      ],
      "metadata": {
        "id": "t6dVpIINYklI"
      }
    },
    {
      "cell_type": "markdown",
      "source": [
        "Histogram actually  shows the frequency of numerical data using rectangles. That's why, I have picked this plot to show the distribution of numeric data."
      ],
      "metadata": {
        "id": "5aaW0BYyYklI"
      }
    },
    {
      "cell_type": "markdown",
      "source": [
        "#### Chart - 3"
      ],
      "metadata": {
        "id": "EM7whBJCYoAo"
      }
    },
    {
      "cell_type": "code",
      "source": [
        "# Chart - 3 visualization code\n",
        "merged_df.dtypes"
      ],
      "metadata": {
        "id": "t6GMdE67YoAp"
      },
      "execution_count": null,
      "outputs": []
    },
    {
      "cell_type": "code",
      "source": [
        "import seaborn as sns"
      ],
      "metadata": {
        "id": "Sb4qjJfxvioH"
      },
      "execution_count": null,
      "outputs": []
    },
    {
      "cell_type": "code",
      "source": [
        "# Increase figure size for better visibility\n",
        "plt.rcParams[\"figure.figsize\"] = (14, 10)\n",
        "\n",
        "# Barplots\n",
        "categorical_vars = ['Category', 'Type', 'Content Rating', 'Genres']\n",
        "for var in categorical_vars:\n",
        "    sns.countplot(data=merged_df, y=var)\n",
        "    plt.show()"
      ],
      "metadata": {
        "id": "Y8QYNDlN1Pxk"
      },
      "execution_count": null,
      "outputs": []
    },
    {
      "cell_type": "markdown",
      "source": [
        "##### 1. Why did you pick the specific chart?"
      ],
      "metadata": {
        "id": "fge-S5ZAYoAp"
      }
    },
    {
      "cell_type": "markdown",
      "source": [
        "Here, I have picked the count plot to show the counts of categorical variables."
      ],
      "metadata": {
        "id": "5dBItgRVYoAp"
      }
    },
    {
      "cell_type": "markdown",
      "source": [
        "##### 2. What is/are the insight(s) found from the chart?"
      ],
      "metadata": {
        "id": "85gYPyotYoAp"
      }
    },
    {
      "cell_type": "markdown",
      "source": [
        "- Category having maximum count is Game and Category having minimum count is\n",
        "  Comics. The dominance of the game category over the comics category within the app market has significant business implications affecting revenue generation, market competition, user engagement, monetization strategies, demographic appeal, content diversity and investment opportunities While the game category benefits from a larger user base and more diverse monetization options, the comics category may need to focus on niche audiences and alternative revenue streams to enhance its competitiveness and profitability within the market.\n",
        "- Free Apps are more in comparison to paid apps. Free apps tend to attract a\n",
        "  larger user base compared to paid apps. This broader user base can potentially translate into more opportunities for revenue generation through other means such as in-app advertisements, in-app purchases or premium subscriptions.\n",
        "- The distribution of apps across various content ratings, revealing that the\n",
        "  majority are rated for \"Everyone,\" followed by \"Teen,\" \"Mature 17+,\" \"Everyone 10+,\" and \"Adults only 18+.\" This indicates that developers predominantly target a broad audience, ensuring accessibility to all age groups, while also catering to specific segments like teenagers and adults with more mature content.\n"
      ],
      "metadata": {
        "id": "4jstXR6OYoAp"
      }
    },
    {
      "cell_type": "markdown",
      "source": [
        "Answer Here"
      ],
      "metadata": {
        "id": "zfJ8IqMcYoAp"
      }
    },
    {
      "cell_type": "markdown",
      "source": [
        "#### Chart - 4"
      ],
      "metadata": {
        "id": "4Of9eVA-YrdM"
      }
    },
    {
      "cell_type": "code",
      "source": [
        "# Chart - 4 visualization code\n",
        "for column in merged_df.columns:\n",
        "    # Check if the column contains numeric data\n",
        "    if merged_df[column].dtype in ['int64', 'float64']:\n",
        "        # Create boxplot using Seaborn\n",
        "        plt.figure(figsize=(8, 6))\n",
        "        sns.boxplot(data=merged_df[column])\n",
        "        plt.title(f'Boxplot of {column}')\n",
        "        plt.ylabel(column)\n",
        "        plt.show()"
      ],
      "metadata": {
        "id": "irlUoxc8YrdO"
      },
      "execution_count": null,
      "outputs": []
    },
    {
      "cell_type": "markdown",
      "source": [
        "##### 1. Why did you pick the specific chart?"
      ],
      "metadata": {
        "id": "iky9q4vBYrdO"
      }
    },
    {
      "cell_type": "markdown",
      "source": [
        "I have picked box plot to get an idea about outliers present in numeric columns."
      ],
      "metadata": {
        "id": "aJRCwT6DYrdO"
      }
    },
    {
      "cell_type": "markdown",
      "source": [
        "##### 2. What is/are the insight(s) found from the chart?"
      ],
      "metadata": {
        "id": "F6T5p64dYrdO"
      }
    },
    {
      "cell_type": "markdown",
      "source": [],
      "metadata": {
        "id": "Xx8WAJvtYrdO"
      }
    },
    {
      "cell_type": "markdown",
      "source": [
        "##### 3. Will the gained insights help creating a positive business impact?\n",
        "Are there any insights that lead to negative growth? Justify with specific reason."
      ],
      "metadata": {
        "id": "y-Ehk30pYrdP"
      }
    },
    {
      "cell_type": "markdown",
      "source": [
        "By identifying and analyzing outliers through box plots, businesses can gain valuable insights into user experiences, address critical issues, and make data-driven decisions that enhance overall app performance and user satisfaction."
      ],
      "metadata": {
        "id": "jLNxxz7MYrdP"
      }
    },
    {
      "cell_type": "markdown",
      "source": [
        "#### Chart - 5"
      ],
      "metadata": {
        "id": "bamQiAODYuh1"
      }
    },
    {
      "cell_type": "code",
      "source": [
        "# Pie charts\n",
        "for var in ['Content Rating', 'Type']:\n",
        "    plt.figure(figsize=(6, 6))\n",
        "    merged_df[var].value_counts().plot.pie(autopct='%1.1f%%')\n",
        "    plt.axis('equal')\n",
        "    plt.title(f'Distribution of {var}')\n",
        "    plt.show()\n"
      ],
      "metadata": {
        "id": "4L3VP0pX2dQU"
      },
      "execution_count": null,
      "outputs": []
    },
    {
      "cell_type": "markdown",
      "source": [
        "##### 1. Why did you pick the specific chart?"
      ],
      "metadata": {
        "id": "QHF8YVU7Yuh3"
      }
    },
    {
      "cell_type": "markdown",
      "source": [
        "I have picked pie chart to visualize the distribution of content rating and type of subscriptions available for different apps."
      ],
      "metadata": {
        "id": "dcxuIMRPYuh3"
      }
    },
    {
      "cell_type": "markdown",
      "source": [
        "##### 2. What is/are the insight(s) found from the chart?"
      ],
      "metadata": {
        "id": "GwzvFGzlYuh3"
      }
    },
    {
      "cell_type": "markdown",
      "source": [
        "Fron the Content Rating Pie Chart, I found these key findings:\n",
        "\n",
        "- Everyone: 78.9% - This category is the most prevalent indicating that the majority of content is suitable for all audiences.\n",
        "\n",
        "- Teen: 10.9% - A smaller portion of content is intended for teenage users.\n",
        "Mature 17+: 5.5% - Content in this category is suitable for individuals aged 17 and above.\n",
        "\n",
        "- Everyone 10+: 4.6% - This category covers content appropriate for users aged 10 and above.\n",
        "\n",
        "- Adults only 18+: 0.1% - A very small percentage of content is restricted to adult users only.\n",
        "\n",
        "This distribution can help in understanding the target audience for content in an app store, with the majority being accessible to everyone.\n",
        "\n",
        "Another Pie Chart for distribution of app subscription is showing these key findings:\n",
        "\n",
        "- Free: 98.6% - The vast majority of apps are free, indicating that most users can download and use them without any cost.\n",
        "\n",
        "- Paid: 1.4% - A small fraction of apps require payment, reflecting a limited market for paid applications.\n",
        "\n",
        "This distribution suggests that free apps dominate the market significantly.\n",
        "\n",
        "> Add blockquote\n",
        "\n"
      ],
      "metadata": {
        "id": "uyqkiB8YYuh3"
      }
    },
    {
      "cell_type": "markdown",
      "source": [
        "##### 3. Will the gained insights help creating a positive business impact?\n",
        "Are there any insights that lead to negative growth? Justify with specific reason."
      ],
      "metadata": {
        "id": "qYpmQ266Yuh3"
      }
    },
    {
      "cell_type": "markdown",
      "source": [
        "Answer Here"
      ],
      "metadata": {
        "id": "_WtzZ_hCYuh4"
      }
    },
    {
      "cell_type": "markdown",
      "source": [
        "#### Chart - 6"
      ],
      "metadata": {
        "id": "OH-pJp9IphqM"
      }
    },
    {
      "cell_type": "code",
      "source": [
        "# Chart - 6 visualization code\n",
        "plt.figure(figsize=(10, 6))\n",
        "sns.violinplot(data=merged_df, x='Category', y='Rating')\n",
        "plt.xticks(rotation=90)\n",
        "plt.show()\n"
      ],
      "metadata": {
        "id": "kuRf4wtuphqN"
      },
      "execution_count": null,
      "outputs": []
    },
    {
      "cell_type": "markdown",
      "source": [
        "##### 2. What is/are the insight(s) found from the chart?\n"
      ],
      "metadata": {
        "id": "_ouA3fa0phqN"
      }
    },
    {
      "cell_type": "markdown",
      "source": [
        "This plot displays the distribution of app ratings across different categories in the app store:\n",
        "\n",
        "Y-axis (Rating): Shows the range of ratings from about 2.5 to 5.\n",
        "X-axis (Category): Represents various app categories like Art & Design, Family, Auto & Vehicles, etc.\n",
        "Shape of each plot: Indicates the distribution density of ratings within that category. Wider sections imply a higher concentration of ratings at that level.\n",
        "\n",
        "Key Findings:\n",
        "\n",
        "Most categories have a high concentration of ratings around 4.0 to 4.5.\n",
        "Some categories, like Family and Auto & Vehicles, show a wider spread of ratings.\n",
        "Categories such as Books and Reference, and Events have more tightly clustered ratings, suggesting consistency in user feedback.\n",
        "\n",
        "This visualization helps identify how user satisfaction varies across different app categories."
      ],
      "metadata": {
        "id": "VECbqPI7phqN"
      }
    },
    {
      "cell_type": "markdown",
      "source": [
        "#### Chart - 7"
      ],
      "metadata": {
        "id": "PIIx-8_IphqN"
      }
    },
    {
      "cell_type": "code",
      "source": [
        "# Chart - 7 visualization code\n",
        "plt.figure(figsize=(10, 6))\n",
        "sns.barplot(data=merged_df, x='Category', y='Rating', errorbar='sd')  # sd for standard deviation\n",
        "plt.xticks(rotation=90)\n",
        "plt.show()\n"
      ],
      "metadata": {
        "id": "lqAIGUfyphqO"
      },
      "execution_count": null,
      "outputs": []
    },
    {
      "cell_type": "markdown",
      "source": [
        "##### 2. What is/are the insight(s) found from the chart?"
      ],
      "metadata": {
        "id": "r2jJGEOYphqO"
      }
    },
    {
      "cell_type": "markdown",
      "source": [
        "The bar chart presents the average ratings of various app categories on a scale from 0 to 5. The x-axis lists categories like ART_AND_DESIGN, FAMILY, AUTO_AND_VEHICLES, and so on, while the y-axis represents the average rating. Most categories have average ratings between 4.0 and 4.5, indicating generally high user satisfaction. The EDUCATION category stands out with the highest average rating, nearing 5, whereas categories like DATING and COMICS have slightly lower averages, closer to 4. The error bars, which show the variability of ratings within each category, are relatively short across all categories, suggesting consistent ratings. Overall, the chart indicates that app ratings are generally positive and consistent across different categories, with EDUCATION apps being particularly well-rated."
      ],
      "metadata": {
        "id": "Po6ZPi4hphqO"
      }
    },
    {
      "cell_type": "markdown",
      "source": [
        "#### Chart - 8"
      ],
      "metadata": {
        "id": "BZR9WyysphqO"
      }
    },
    {
      "cell_type": "code",
      "source": [
        "# Chart - 8 visualization code\n",
        "plt.figure(figsize=(10, 6))\n",
        "sns.boxplot(data=merged_df, x='Category', y='Rating', hue='Type')\n",
        "plt.xticks(rotation=90)\n",
        "plt.show()\n"
      ],
      "metadata": {
        "id": "TdPTWpAVphqO"
      },
      "execution_count": null,
      "outputs": []
    },
    {
      "cell_type": "markdown",
      "source": [
        "##### 2. What is/are the insight(s) found from the chart?"
      ],
      "metadata": {
        "id": "eZrbJ2SmphqO"
      }
    },
    {
      "cell_type": "markdown",
      "source": [
        "Key Observations:\n",
        "\n",
        "ART_AND_DESIGN: Both free and paid apps have high median ratings, with paid apps showing a slightly higher median and a narrower IQR.\n",
        "\n",
        "FAMILY: Free apps have a wider range of ratings and more outliers, while paid apps have a higher median rating.\n",
        "\n",
        "BEAUTY: Free apps have a higher median rating than paid apps, with a wider spread.\n",
        "\n",
        "BOOKS_AND_REFERENCE: Paid apps have a higher median rating compared to free apps.\n",
        "\n",
        "BUSINESS: Free apps have a relatively consistent rating with a few outliers, while paid apps have a slightly higher median rating.\n",
        "\n",
        "COMICS: Ratings for free apps are lower and more variable compared to paid apps.\n",
        "\n",
        "EDUCATION: Both free and paid apps have high median ratings, with paid apps having a higher median.\n",
        "\n",
        "MEDICAL: Paid apps have a higher median rating than free apps, with less variability.\n",
        "\n",
        "SPORTS: Free apps have a wider range of ratings, while paid apps have higher and more consistent ratings.\n",
        "\n",
        "TOOLS: Paid apps have a higher median rating and less variability compared to free apps.\n",
        "\n",
        "Overall, paid apps generally have higher median ratings and less variability compared to free apps across many categories. This suggests that users tend to rate paid apps more favorably, potentially reflecting higher quality or better user experience.\n",
        "\n",
        "\n",
        "\n",
        "\n",
        "\n",
        "\n"
      ],
      "metadata": {
        "id": "mZtgC_hjphqO"
      }
    },
    {
      "cell_type": "markdown",
      "source": [
        "#### Chart - 10"
      ],
      "metadata": {
        "id": "U2RJ9gkRphqQ"
      }
    },
    {
      "cell_type": "code",
      "source": [
        "# Chart - 10 visualization code\n",
        "g = sns.FacetGrid(merged_df, col=\"Type\", row=\"Category\", margin_titles=True)\n",
        "g.map(sns.scatterplot, \"Rating\", \"Installs\")\n",
        "plt.show()\n"
      ],
      "metadata": {
        "id": "GM7a4YP4phqQ"
      },
      "execution_count": null,
      "outputs": []
    },
    {
      "cell_type": "markdown",
      "source": [
        "##### 2. What is/are the insight(s) found from the chart?"
      ],
      "metadata": {
        "id": "tgIPom80phqQ"
      }
    },
    {
      "cell_type": "markdown",
      "source": [
        "From these plots, it is evident that certain categories exhibit a positive correlation between the number of installs and the average rating, suggesting that more popular apps tend to have higher ratings. For instance, categories like \"GAME,\" \"TOOLS,\" and \"COMMUNICATION\" show a trend where higher installs correlate with better ratings. However, in some categories, such as \"DATING\" and \"COMICS,\" the correlation is less pronounced or even negative, indicating that higher installs do not necessarily equate to higher ratings.\n",
        "\n",
        "Overall, while there is a general trend of more installs correlating with higher ratings in many categories, this is not a universal rule. Each category shows unique patterns, suggesting that factors influencing app ratings can vary significantly depending on the app type."
      ],
      "metadata": {
        "id": "Qp13pnNzphqQ"
      }
    },
    {
      "cell_type": "markdown",
      "source": [
        "#### Chart - 13"
      ],
      "metadata": {
        "id": "Ag9LCva-p1cl"
      }
    },
    {
      "cell_type": "code",
      "source": [
        "# Chart - 13 visualization code\n",
        "from wordcloud import WordCloud\n",
        "wordcloud = WordCloud(width=800, height=400, background_color='white').generate(' '.join(merged_df['Translated_Review'].dropna()))\n",
        "plt.figure(figsize=(10, 6))\n",
        "plt.imshow(wordcloud, interpolation='bilinear')\n",
        "plt.axis('off')\n",
        "plt.show()"
      ],
      "metadata": {
        "id": "EUfxeq9-p1cl"
      },
      "execution_count": null,
      "outputs": []
    },
    {
      "cell_type": "markdown",
      "source": [
        "#### Chart - 14 - Correlation Heatmap"
      ],
      "metadata": {
        "id": "NC_X3p0fY2L0"
      }
    },
    {
      "cell_type": "code",
      "source": [
        "# Correlation Heatmap visualization code\n",
        "# Select only integer and float columns\n",
        "numeric_columns = merged_df.select_dtypes(include=['int64', 'float64'])\n",
        "\n",
        "# Correlation Heatmap visualization code\n",
        "plt.figure(figsize=(10, 8))\n",
        "sns.heatmap(numeric_columns.corr(), annot=True, cmap='coolwarm', fmt=\".2f\")\n",
        "plt.show()\n"
      ],
      "metadata": {
        "id": "xyC9zolEZNRQ"
      },
      "execution_count": null,
      "outputs": []
    },
    {
      "cell_type": "markdown",
      "source": [
        "##### 1. Why did you pick the specific chart?"
      ],
      "metadata": {
        "id": "UV0SzAkaZNRQ"
      }
    },
    {
      "cell_type": "markdown",
      "source": [
        "This heatmap shows the correlation matrix for variables related to mobile applications. Rating has a positive correlation with Size, Sentiment_Polarity, and Sentiment_Subjectivity, and a weak negative correlation with Price. Size is positively correlated with Installs but negatively with Sentiment_Polarity. Installs has a positive correlation with Size but shows negligible correlations with other variables. Price has very weak correlations with all other variables. Sentiment_Polarity is negatively correlated with Size but positively correlated with Sentiment_Subjectivity. Lastly, Sentiment_Subjectivity has a slight positive correlation with Rating and Sentiment_Polarity.\n",
        "\n",
        "\n",
        "\n",
        "\n"
      ],
      "metadata": {
        "id": "DVPuT8LYZNRQ"
      }
    },
    {
      "cell_type": "markdown",
      "source": [
        "#### Chart - 15 - Pair Plot"
      ],
      "metadata": {
        "id": "q29F0dvdveiT"
      }
    },
    {
      "cell_type": "code",
      "source": [
        "# Pair Plot visualization code\n",
        "import seaborn as sns\n",
        "\n",
        "# Select only integer and float columns\n",
        "numeric_columns = merged_df.select_dtypes(include=['int64', 'float64'])\n",
        "\n",
        "# Create pair plot\n",
        "sns.pairplot(numeric_columns)\n",
        "plt.show()\n"
      ],
      "metadata": {
        "id": "o58-TEIhveiU"
      },
      "execution_count": null,
      "outputs": []
    },
    {
      "cell_type": "markdown",
      "source": [
        "##### 2. What is/are the insight(s) found from the chart?"
      ],
      "metadata": {
        "id": "22aHeOlLveiV"
      }
    },
    {
      "cell_type": "markdown",
      "source": [
        "This pair plot displays the relationships between various variables related to mobile applications. The diagonal plots show the distribution of each variable, with Ratings skewed towards higher values and Prices mostly clustered around zero. Size shows a positive relationship with Installs but a negative one with Sentiment_Polarity, while Sentiment_Subjectivity is widely spread. Ratings have a slight positive relationship with Size and Sentiment_Subjectivity but show no clear pattern with Installs and Price. Installs are concentrated at lower values and have a positive relationship with Size but no clear relationship with other variables. Sentiment_Polarity has a negative relationship with Size and a slight positive relationship with Sentiment_Subjectivity. Overall, the pair plot highlights how these variables interact, with some showing clear relationships while others exhibit more scattered distributions.\n",
        "\n",
        "\n",
        "\n",
        "\n",
        "\n",
        "\n"
      ],
      "metadata": {
        "id": "uPQ8RGwHveiV"
      }
    },
    {
      "cell_type": "markdown",
      "source": [
        "### ***Hurrah! You have successfully completed your EDA Capstone Project !!!***"
      ],
      "metadata": {
        "id": "gIfDvo9L0UH2"
      }
    }
  ]
}